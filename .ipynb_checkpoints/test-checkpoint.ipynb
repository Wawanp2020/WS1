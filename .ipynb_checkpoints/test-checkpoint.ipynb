{
 "cells": [
  {
   "cell_type": "code",
   "execution_count": 5,
   "metadata": {},
   "outputs": [
    {
     "name": "stdout",
     "output_type": "stream",
     "text": [
      "phone :  2004-959-559 # This is Phone Number\n",
      "Phone Num 1 :  2004-959-559 \n",
      "Phone Num 2 :  2004959559\n"
     ]
    }
   ],
   "source": [
    "import re\n",
    "\n",
    "phone = \"2004-959-559 # This is Phone Number\"\n",
    "print(\"phone : \",phone)\n",
    "\n",
    "# Delete Python-style comments\n",
    "num = re.sub(r'#.*$', \"\", phone)\n",
    "print(\"Phone Num 1 : \", num)\n",
    "\n",
    "# Remove anything other than digits\n",
    "num = re.sub(r'\\D', \"\", phone)    \n",
    "print(\"Phone Num 2 : \", num)"
   ]
  },
  {
   "cell_type": "code",
   "execution_count": 6,
   "metadata": {},
   "outputs": [
    {
     "name": "stdout",
     "output_type": "stream",
     "text": [
      "Phone Num 1 :  02 Januari 2019\n"
     ]
    }
   ],
   "source": [
    "exchr = '02\\xa0Januari\\xa02019'\n",
    "num = re.sub(r'xa0.*$', \"\", exchr)\n",
    "print(\"Phone Num 1 : \", num)"
   ]
  },
  {
   "cell_type": "code",
   "execution_count": null,
   "metadata": {},
   "outputs": [],
   "source": [
    "import pandas as pd \n",
    "# pandas interprets this date to be in m-d-yyyy format\n",
    "print(pd.to_datetime('8-2-2019'))\n",
    "# if the specified date contains the day first, then \n",
    "# that has to be specified.\n",
    "# output in yyyy-mm-dd format.\n",
    "print(pd.to_datetime('8-2-2019', dayfirst = True))\n",
    "# if the specified date contains the year first, then \n",
    "# that has to be specified.\n",
    "# output in yyyy-mm-dd format.\n",
    "print(pd.to_datetime('10-2-8', yearfirst = True))"
   ]
  }
 ],
 "metadata": {
  "kernelspec": {
   "display_name": "capstoneWS",
   "language": "python",
   "name": "capstonews"
  },
  "language_info": {
   "codemirror_mode": {
    "name": "ipython",
    "version": 3
   },
   "file_extension": ".py",
   "mimetype": "text/x-python",
   "name": "python",
   "nbconvert_exporter": "python",
   "pygments_lexer": "ipython3",
   "version": "3.7.7"
  }
 },
 "nbformat": 4,
 "nbformat_minor": 4
}
